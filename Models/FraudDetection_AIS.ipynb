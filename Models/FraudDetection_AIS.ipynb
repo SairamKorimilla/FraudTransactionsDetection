{
 "cells": [
  {
   "cell_type": "code",
   "execution_count": null,
   "id": "eacbbe27",
   "metadata": {},
   "outputs": [],
   "source": [
    "print(\"Hello, GitHub!\")"
   ]
  }
 ],
 "metadata": {},
 "nbformat": 4,
 "nbformat_minor": 5
}
